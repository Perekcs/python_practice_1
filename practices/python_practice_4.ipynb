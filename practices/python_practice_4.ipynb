{
 "nbformat": 4,
 "nbformat_minor": 0,
 "metadata": {
  "colab": {
   "provenance": []
  },
  "kernelspec": {
   "name": "python3",
   "display_name": "Python 3"
  },
  "language_info": {
   "name": "python"
  }
 },
 "cells": [
  {
   "cell_type": "markdown",
   "source": [
    "# I. Functions. Arguments."
   ],
   "metadata": {
    "id": "kXpppdVm6wFy"
   }
  },
  {
   "cell_type": "markdown",
   "source": [
    "1. (5б) Назвіть основні 4 смислові  частини, з яких складається функція."
   ],
   "metadata": {
    "id": "u_krJdlbAkVz"
   }
  },
  {
   "cell_type": "markdown",
   "source": [
    "заголовок, тіло функції, вхідні параметри, та результат, який повертає функція"
   ],
   "metadata": {
    "id": "KKTrTXmHAptb"
   }
  },
  {
   "cell_type": "markdown",
   "source": [
    "2. (3б) Визначте функцію, що приймає 2 аргументи та повертає результат ділення 1го аргумента на інший."
   ],
   "metadata": {
    "id": "ORM4PqJQAtDM"
   }
  },
  {
   "cell_type": "code",
   "execution_count": 68,
   "metadata": {
    "id": "EuDx-z8M6sLo",
    "colab": {
     "base_uri": "https://localhost:8080/"
    },
    "outputId": "4f59777a-66b7-4920-9ed3-e64a48435cb1"
   },
   "outputs": [
    {
     "output_type": "stream",
     "name": "stdout",
     "text": [
      "6.0\n"
     ]
    }
   ],
   "source": [
    "def divide (a,b):\n",
    "  return a/b\n",
    "print(divide(30,5))"
   ]
  },
  {
   "cell_type": "markdown",
   "source": [
    "3. (2б) Викличте вище визначену функцію, де другий аргумент дорівнює 0."
   ],
   "metadata": {
    "id": "5joQGQ-SAyMe"
   }
  },
  {
   "cell_type": "code",
   "source": [
    "print(divide(5,0))"
   ],
   "metadata": {
    "id": "V5cBV1LOA3d-",
    "colab": {
     "base_uri": "https://localhost:8080/",
     "height": 234
    },
    "outputId": "866c6145-ae7c-46d1-d177-edf5999f2540"
   },
   "execution_count": 69,
   "outputs": [
    {
     "output_type": "error",
     "ename": "ZeroDivisionError",
     "evalue": "division by zero",
     "traceback": [
      "\u001B[0;31m---------------------------------------------------------------------------\u001B[0m",
      "\u001B[0;31mZeroDivisionError\u001B[0m                         Traceback (most recent call last)",
      "\u001B[0;32m<ipython-input-69-5262e418b551>\u001B[0m in \u001B[0;36m<cell line: 1>\u001B[0;34m()\u001B[0m\n\u001B[0;32m----> 1\u001B[0;31m \u001B[0mprint\u001B[0m\u001B[0;34m(\u001B[0m\u001B[0mdivide\u001B[0m\u001B[0;34m(\u001B[0m\u001B[0;36m5\u001B[0m\u001B[0;34m,\u001B[0m\u001B[0;36m0\u001B[0m\u001B[0;34m)\u001B[0m\u001B[0;34m)\u001B[0m\u001B[0;34m\u001B[0m\u001B[0;34m\u001B[0m\u001B[0m\n\u001B[0m",
      "\u001B[0;32m<ipython-input-68-642ddc9afba4>\u001B[0m in \u001B[0;36mdivide\u001B[0;34m(a, b)\u001B[0m\n\u001B[1;32m      1\u001B[0m \u001B[0;32mdef\u001B[0m \u001B[0mdivide\u001B[0m \u001B[0;34m(\u001B[0m\u001B[0ma\u001B[0m\u001B[0;34m,\u001B[0m\u001B[0mb\u001B[0m\u001B[0;34m)\u001B[0m\u001B[0;34m:\u001B[0m\u001B[0;34m\u001B[0m\u001B[0;34m\u001B[0m\u001B[0m\n\u001B[0;32m----> 2\u001B[0;31m   \u001B[0;32mreturn\u001B[0m \u001B[0ma\u001B[0m\u001B[0;34m/\u001B[0m\u001B[0mb\u001B[0m\u001B[0;34m\u001B[0m\u001B[0;34m\u001B[0m\u001B[0m\n\u001B[0m\u001B[1;32m      3\u001B[0m \u001B[0mprint\u001B[0m\u001B[0;34m(\u001B[0m\u001B[0mdivide\u001B[0m\u001B[0;34m(\u001B[0m\u001B[0;36m30\u001B[0m\u001B[0;34m,\u001B[0m\u001B[0;36m5\u001B[0m\u001B[0;34m)\u001B[0m\u001B[0;34m)\u001B[0m\u001B[0;34m\u001B[0m\u001B[0;34m\u001B[0m\u001B[0m\n",
      "\u001B[0;31mZeroDivisionError\u001B[0m: division by zero"
     ]
    }
   ]
  },
  {
   "cell_type": "markdown",
   "source": [
    "4. (4б) Перевизначте функцію так, щоби у випадку ділення на 0 функція повертала None, а в решті випадків - результат розрахунків."
   ],
   "metadata": {
    "id": "QyimWgW8A43-"
   }
  },
  {
   "cell_type": "code",
   "source": [
    "def divide(a,b):\n",
    "  if(b==0):\n",
    "    return None\n",
    "  return a/b\n",
    "print(divide(5,0))\n",
    "print(divide(40,8))"
   ],
   "metadata": {
    "id": "7VIODtSjA8Ek",
    "colab": {
     "base_uri": "https://localhost:8080/"
    },
    "outputId": "3cccd50c-ea82-4c2e-fa22-475942501895"
   },
   "execution_count": 10,
   "outputs": [
    {
     "output_type": "stream",
     "name": "stdout",
     "text": [
      "None\n",
      "5.0\n"
     ]
    }
   ]
  },
  {
   "cell_type": "markdown",
   "source": [
    "5. (5б) Визначте функцію, що віднімає одне число від іншого (підказка: це буде 2 аргументи функції). При чому, якщо не визначити, скільки саме має бути віднято від числа, за замовчуванням має відніматися 1. Викличте функцію, передаючи тільки один аргумент."
   ],
   "metadata": {
    "id": "Y8mN0GfkA81l"
   }
  },
  {
   "cell_type": "code",
   "source": [
    "def minus(a, b=1):\n",
    "  return a-b\n",
    "print(minus(4))"
   ],
   "metadata": {
    "id": "vg1kxkdgBA50",
    "colab": {
     "base_uri": "https://localhost:8080/"
    },
    "outputId": "e02a4058-69c8-4d5b-babf-02ff2280a232"
   },
   "execution_count": 12,
   "outputs": [
    {
     "output_type": "stream",
     "name": "stdout",
     "text": [
      "3\n"
     ]
    }
   ]
  },
  {
   "cell_type": "markdown",
   "source": [
    "6. (7б) Визначте функцію, яка приймає iterable (ітерабельний обʼєкт, напр. список), що складається з 7ми рядкових значень - назв погодних умов (напр. \"sunny\") за кожен день у тижні. Повертає функція словник, де ключами є рядки з погодними умовами, а значеннями - кількість разів, скільки дана погода була протягом тижня (напр. {'sunny': 1, ...}). Викличте цю функцію та виведіть результат її роботи на екран."
   ],
   "metadata": {
    "id": "D3mwQGNOBBs4"
   }
  },
  {
   "cell_type": "code",
   "source": [
    "def count_weather_conditions(weekly_weather):\n",
    "    return {condition: weekly_weather.count(condition) for condition in weekly_weather}\n",
    "\n",
    "weekly_weather = [\"sunny\", \"rainy\", \"sunny\", \"cloudy\", \"sunny\", \"cloudy\", \"cloudy\"]\n",
    "result = count_weather_conditions(weekly_weather)\n",
    "print(result)"
   ],
   "metadata": {
    "id": "OsWm-hKcBFyn",
    "colab": {
     "base_uri": "https://localhost:8080/"
    },
    "outputId": "a626d498-1d01-4dad-bafb-c977d5d4de81"
   },
   "execution_count": 16,
   "outputs": [
    {
     "output_type": "stream",
     "name": "stdout",
     "text": [
      "{'sunny': 3, 'rainy': 1, 'cloudy': 3}\n"
     ]
    }
   ]
  },
  {
   "cell_type": "markdown",
   "source": [
    "7. (15б) Напишіть програму, яка б шукала необхідне число у впорядкованому списку цілочислених значень, де\n",
    "число має вводитись з консолі.\n",
    "власне алгоритм пошуку винесений в окрему функцію, яка повертає булеве значення (знайдено число - True, не знайдено - False).\n",
    "в залежності від результату функції, виведіть на екран повідомлення про успішний або ж неуспішний пошук.\n",
    "Зауваження: використовувати оператор in заборонено."
   ],
   "metadata": {
    "id": "RMiCcdOsBKQT"
   }
  },
  {
   "cell_type": "code",
   "source": [
    "def binary_search(arr, target):\n",
    "    start = 0\n",
    "    end = len(arr) - 1\n",
    "    while start <= end:\n",
    "        mid = (start + end) // 2\n",
    "        if arr[mid] == target:\n",
    "            return True\n",
    "        elif arr[mid] < target:\n",
    "            start = mid + 1\n",
    "        else:\n",
    "            end = mid - 1\n",
    "    return False\n",
    "\n",
    "arr = [1, 3, 5, 8, 10, 10, 12, 14, 16, 17, 19]\n",
    "target = int(input(\"Input a number: \"))\n",
    "\n",
    "if binary_search(arr, target):\n",
    "    print(\"Number is found!\")\n",
    "else:\n",
    "    print(\"Number is not found!\")"
   ],
   "metadata": {
    "id": "UNCZg65OBOy-",
    "colab": {
     "base_uri": "https://localhost:8080/"
    },
    "outputId": "fc3e810a-04ca-414c-d9f8-688bdcf9b5d2"
   },
   "execution_count": 22,
   "outputs": [
    {
     "output_type": "stream",
     "name": "stdout",
     "text": [
      "Input a number: 12\n",
      "Number is found!\n"
     ]
    }
   ]
  },
  {
   "cell_type": "markdown",
   "source": [
    "# II. Lambda functions."
   ],
   "metadata": {
    "id": "Ae1n_OvLBTsy"
   }
  },
  {
   "cell_type": "markdown",
   "source": [
    "8. (4б) В яких випадках варто використовувати лямбда-функції?"
   ],
   "metadata": {
    "id": "xaD_wSlaCWen"
   }
  },
  {
   "cell_type": "markdown",
   "source": [
    "Лямбда-функції використовуються тоді, коли потрібно створити маленьку функцію без її оголошення, частіше щоб просто скоротити запис."
   ],
   "metadata": {
    "id": "42MB6OoLCakR"
   }
  },
  {
   "cell_type": "markdown",
   "source": [
    "9. (9б) Визначте список з рядками. Після цього визначте анонімну функцію для отримання першого символу у верхньому регістрі для кожного рядка списку.\n",
    "Підказка: використовуйте анонімну функцію в якості агрумента до вбудованої ф-ції, яка створена для застосування функцій над iterable обʼєктами. Результат виведіть на екран у вигляді кортежу."
   ],
   "metadata": {
    "id": "USrzrk7GCedk"
   }
  },
  {
   "cell_type": "code",
   "source": [
    "strings = list((\"andrii\", \"serhii\", \"ivan\", \"petro\"))\n",
    "print(tuple(map(lambda x: x[0].upper(), strings)))"
   ],
   "metadata": {
    "id": "M8QWUsMlCjWH",
    "colab": {
     "base_uri": "https://localhost:8080/"
    },
    "outputId": "f215ebd4-1947-44b4-e0a7-3b30772beb50"
   },
   "execution_count": 27,
   "outputs": [
    {
     "output_type": "stream",
     "name": "stdout",
     "text": [
      "('A', 'S', 'I', 'P')\n"
     ]
    }
   ]
  },
  {
   "cell_type": "markdown",
   "source": [
    "10. (10б) Визначте список з числовими значеннями (і цілими, і з рухомою комою). а) Відфільтруйте всі числа, які діляться націло на 3 за допомогою вбудованої функції та анонімної функції в якості аргумента). Збережіть результат у змінній, не приводяти явно до будь-якого типу. б) Використовуючи результат на кроці 12.а у якості аргументу, та за допомогою лямбда-функції в якості іншого аргументу до вбудованої функції, додайте до кожного елементу число 1 та опісля зведіть у квадрат. Остаточний результат приведіть явно до списку та виведіть на екран."
   ],
   "metadata": {
    "id": "9fyUhXOoCtGp"
   }
  },
  {
   "cell_type": "code",
   "source": [
    "numbers = [1, 2, 3, 4.6, 5.8, 6, 7, 8, 10.8, 11.7, 12, 13]\n",
    "numbersTo3 = filter(lambda x: x % 3 == 0, numbers)\n",
    "result = map(lambda x: (x+1)**2, numbersTo3)\n",
    "print(list(result))"
   ],
   "metadata": {
    "id": "exEx2_okCsql",
    "colab": {
     "base_uri": "https://localhost:8080/"
    },
    "outputId": "5784edd5-12bd-4d92-955c-64e6af7bb0b6"
   },
   "execution_count": 30,
   "outputs": [
    {
     "output_type": "stream",
     "name": "stdout",
     "text": [
      "[16, 49, 169]\n"
     ]
    }
   ]
  },
  {
   "cell_type": "markdown",
   "source": [
    "# III. Decorators."
   ],
   "metadata": {
    "id": "o_x8cG_WC7jp"
   }
  },
  {
   "cell_type": "markdown",
   "source": [
    "11. (11б) Визначте декоратор, який би виводив у консоль повідомлення про початок роботи і назву функції (напр. my_function._ _ name _ _), а після відпрацювання функції - повідомлення про закінчення роботи і назву функції, що задекорована."
   ],
   "metadata": {
    "id": "mhxS4-mfC8LQ"
   }
  },
  {
   "cell_type": "code",
   "source": [
    "def myDecorator(func):\n",
    "  def wrapper():\n",
    "    print(\"Start working\")\n",
    "    print(myDecorator.__name__)\n",
    "    func()\n",
    "    print(\"Finish working\")\n",
    "    print(func.__name__)\n",
    "  return wrapper\n",
    "\n",
    "@myDecorator\n",
    "def helloFunction():\n",
    "  print(\"Hello world and goodbye\")\n",
    "\n",
    "helloFunction()"
   ],
   "metadata": {
    "id": "srd1ygWjDGhO",
    "colab": {
     "base_uri": "https://localhost:8080/"
    },
    "outputId": "c7961c10-ee2f-4ef2-fd2e-84726fa75f51"
   },
   "execution_count": 44,
   "outputs": [
    {
     "output_type": "stream",
     "name": "stdout",
     "text": [
      "Start working\n",
      "myDecorator\n",
      "Hello world and goodbye\n",
      "Finish working\n",
      "helloFunction\n"
     ]
    }
   ]
  },
  {
   "cell_type": "markdown",
   "source": [
    "12. (4б) Задекоруйте двома різними способами функції з завдання 4 та 5 декоратором із завдання 11. (**УВАГА**: не декоруйте функції двічі!)."
   ],
   "metadata": {
    "id": "rxGZwVBiDph3"
   }
  },
  {
   "cell_type": "code",
   "source": [
    "@myDecorator\n",
    "def divide(a, b):\n",
    "    if b == 0:\n",
    "        return None\n",
    "    return a / b\n",
    "\n",
    "minus = myDecorator(minus)"
   ],
   "metadata": {
    "id": "06lj7eq_DwZe"
   },
   "execution_count": 50,
   "outputs": []
  },
  {
   "cell_type": "markdown",
   "source": [
    "13. (2б) Викличте одну з задекорованих функцій і виведіть її результат на екран."
   ],
   "metadata": {
    "id": "P0ep1urBDzf-"
   }
  },
  {
   "cell_type": "code",
   "source": [
    "print(minus(15, 3))"
   ],
   "metadata": {
    "id": "1QvTw0ctD0S3",
    "colab": {
     "base_uri": "https://localhost:8080/"
    },
    "outputId": "35f24e62-1793-4e0e-8a4a-a79cbc18a0cd"
   },
   "execution_count": 58,
   "outputs": [
    {
     "output_type": "stream",
     "name": "stdout",
     "text": [
      "Start working\n",
      "myDecorator\n",
      "Finish working\n",
      "minus\n",
      "12\n"
     ]
    }
   ]
  },
  {
   "cell_type": "markdown",
   "source": [
    "# IV. Recursion."
   ],
   "metadata": {
    "id": "poECCpuoD2S9"
   }
  },
  {
   "cell_type": "markdown",
   "source": [
    "14. (4б) Назвіть дві частини функції, які є обовʼязковими для того, щоб називати її рекурсивною."
   ],
   "metadata": {
    "id": "DqkURfdsD7MY"
   }
  },
  {
   "cell_type": "markdown",
   "source": [
    "функція викликає саму себе і значення при якому функція закінчить своє виконання"
   ],
   "metadata": {
    "id": "HYW6ttIeIQIU"
   }
  },
  {
   "cell_type": "markdown",
   "source": [
    "15. (15б) Визначте функцію, яка рекурсивно реалізовує пошук числа у послідовності Фібоначчі за її індексом (нумерація починається з нуля). Наприклад, потрібно знайти перше число у послідовності, тоді функція прийматиме 0 у якості аргумента і повертатиме 1, якщо ж знаходити третє число (індекс 2) послідовності, то функція повертатиме 2, якщо ж знаходити десяте число (індекс 9), то функція повертатиме 55."
   ],
   "metadata": {
    "id": "WYVt20UmEA35"
   }
  },
  {
   "cell_type": "code",
   "source": [
    "def fibonacci(index):\n",
    "    if index == 0:\n",
    "        return 0\n",
    "    elif index == 1 or index == 2:\n",
    "        return 1\n",
    "    return fibonacci(index - 1) + fibonacci(index - 2)\n",
    "\n",
    "print(fibonacci(1))\n",
    "print(fibonacci(10))"
   ],
   "metadata": {
    "id": "xIMhp05AIpV_",
    "colab": {
     "base_uri": "https://localhost:8080/"
    },
    "outputId": "6d409cd4-8380-4959-8687-dd7ff42e076e"
   },
   "execution_count": 65,
   "outputs": [
    {
     "output_type": "stream",
     "name": "stdout",
     "text": [
      "1\n",
      "55\n"
     ]
    }
   ]
  },
  {
   "cell_type": "markdown",
   "source": [
    "# Вітаю! Ви велика(ий) молодець, що впоралась(вся). Похваліть себе та побалуйте чимось приємним. Я Вами пишаюся."
   ],
   "metadata": {
    "id": "ytXC8n_4Ip0W"
   }
  }
 ]
}
